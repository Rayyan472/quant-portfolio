{
 "cells": [
  {
   "cell_type": "code",
   "id": "initial_id",
   "metadata": {
    "collapsed": true,
    "ExecuteTime": {
     "end_time": "2025-08-12T15:07:38.866252Z",
     "start_time": "2025-08-12T15:07:38.823937Z"
    }
   },
   "source": [
    "import pandas as pd\n",
    "import yfinance as yf\n",
    "import numpy as np\n",
    "\n",
    "ticker = \"TSLA\"\n",
    "\n",
    "data = yf.download(ticker, start=\"2023-01-01\", end=\"2025-01-01\")\n",
    "data[\"Daily Return\"] = data[\"Close\"].pct_change()\n",
    "\n",
    "avg_daily_return = data[\"Daily Return\"].mean()\n",
    "daily_volatility = data[\"Daily Return\"].std()\n",
    "\n",
    "risk_free_rate_daily = 0.05 / 252\n",
    "\n",
    "sharpe_ratio = (avg_daily_return - risk_free_rate_daily) / daily_volatility\n",
    "\n",
    "print(f\"Average Daily Return: {avg_daily_return:.4%}\")\n",
    "print(f\"Daily Volatility: {daily_volatility:.4%}\")\n",
    "print(f\"Sharpe Ratio: {sharpe_ratio:.2f}\")\n"
   ],
   "outputs": [
    {
     "name": "stderr",
     "output_type": "stream",
     "text": [
      "C:\\Users\\rayya\\AppData\\Local\\Temp\\ipykernel_17748\\2586157363.py:7: FutureWarning: YF.download() has changed argument auto_adjust default to True\n",
      "  data = yf.download(ticker, start=\"2023-01-01\", end=\"2025-01-01\")\n",
      "[*********************100%***********************]  1 of 1 completed"
     ]
    },
    {
     "name": "stdout",
     "output_type": "stream",
     "text": [
      "Average Daily Return: 0.3297%\n",
      "Daily Volatility: 3.6730%\n",
      "Sharpe Ratio: 0.08\n"
     ]
    },
    {
     "name": "stderr",
     "output_type": "stream",
     "text": [
      "\n"
     ]
    }
   ],
   "execution_count": 6
  },
  {
   "metadata": {},
   "cell_type": "code",
   "outputs": [],
   "execution_count": null,
   "source": "",
   "id": "20c3bc450bf381cd"
  }
 ],
 "metadata": {
  "kernelspec": {
   "display_name": "Python 3",
   "language": "python",
   "name": "python3"
  },
  "language_info": {
   "codemirror_mode": {
    "name": "ipython",
    "version": 2
   },
   "file_extension": ".py",
   "mimetype": "text/x-python",
   "name": "python",
   "nbconvert_exporter": "python",
   "pygments_lexer": "ipython2",
   "version": "2.7.6"
  }
 },
 "nbformat": 4,
 "nbformat_minor": 5
}
