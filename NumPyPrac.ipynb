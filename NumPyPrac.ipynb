{
 "cells": [
  {
   "cell_type": "code",
   "id": "initial_id",
   "metadata": {
    "collapsed": true,
    "ExecuteTime": {
     "end_time": "2025-08-13T10:46:25.461119Z",
     "start_time": "2025-08-13T10:46:25.259451Z"
    }
   },
   "source": [
    "import numpy as np\n",
    "\n",
    "arr = np.array([1,2,3,4,5])\n",
    "print(arr)\n",
    "\n",
    "arr2d = np.array([[1,2,3],[4,5,6]])\n",
    "print(arr2d)\n",
    "\n",
    "print(np.arange(0, 10, 2))\n",
    "print(np.linspace(0, 1, 5))\n",
    "\n",
    "print(np.random.randn(5))\n",
    "print(np.random.normal(0, 1, 5))\n",
    "\n",
    "a = np.array([10, 20, 30])\n",
    "b = np.array([1, 2, 3])\n",
    "print(a + b)\n",
    "print(a * b)\n",
    "print(a / b)\n",
    "\n",
    "data = np.array([1, 2, 3, 4, 5])\n",
    "print(np.mean(data))\n",
    "print(np.std(data))\n",
    "print(np.var(data))"
   ],
   "outputs": [
    {
     "name": "stdout",
     "output_type": "stream",
     "text": [
      "[1 2 3 4 5]\n",
      "[[1 2 3]\n",
      " [4 5 6]]\n",
      "[0 2 4 6 8]\n",
      "[0.   0.25 0.5  0.75 1.  ]\n",
      "[ 2.0789339   0.7937548   0.77857254 -0.04905046  0.00350561]\n",
      "[ 0.66933271 -1.40591835 -1.65730088  0.62704097 -1.6095907 ]\n",
      "[11 22 33]\n",
      "[10 40 90]\n",
      "[10. 10. 10.]\n",
      "3.0\n",
      "1.4142135623730951\n",
      "2.0\n"
     ]
    }
   ],
   "execution_count": 1
  },
  {
   "metadata": {},
   "cell_type": "code",
   "outputs": [],
   "execution_count": null,
   "source": "",
   "id": "fe7f02a9268a94e4"
  }
 ],
 "metadata": {
  "kernelspec": {
   "display_name": "Python 3",
   "language": "python",
   "name": "python3"
  },
  "language_info": {
   "codemirror_mode": {
    "name": "ipython",
    "version": 2
   },
   "file_extension": ".py",
   "mimetype": "text/x-python",
   "name": "python",
   "nbconvert_exporter": "python",
   "pygments_lexer": "ipython2",
   "version": "2.7.6"
  }
 },
 "nbformat": 4,
 "nbformat_minor": 5
}
